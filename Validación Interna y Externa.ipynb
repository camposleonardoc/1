{
 "cells": [
  {
   "cell_type": "markdown",
   "metadata": {},
   "source": [
    "## Validación Interna y Externa"
   ]
  },
  {
   "cell_type": "code",
   "execution_count": 1,
   "metadata": {},
   "outputs": [],
   "source": [
    "import pandas as pd\n",
    "import numpy as np\n",
    "from sklearn.model_selection import train_test_split\n",
    "from sklearn import linear_model\n",
    "from sklearn.metrics import r2_score"
   ]
  },
  {
   "cell_type": "code",
   "execution_count": 2,
   "metadata": {},
   "outputs": [],
   "source": [
    "data = pd.read_csv('base_datos_2008.csv')\n"
   ]
  },
  {
   "cell_type": "code",
   "execution_count": 3,
   "metadata": {},
   "outputs": [],
   "source": [
    "#elimina valores faltantes de todas las filas según la columna ArrDelay\n",
    "df = data.dropna(subset = ['ArrDelay'])\n",
    "\n",
    "#toma una muestra de valores del date frame\n",
    "df = df.sample(frac=1).head(1000)\n",
    "\n",
    "X = df [['AirTime','Distance','DepDelay']]\n",
    "Y = df['ArrDelay']"
   ]
  },
  {
   "cell_type": "code",
   "execution_count": 4,
   "metadata": {},
   "outputs": [],
   "source": [
    "#Entrenar el modelo segun la librería sklearn con el atributo train_test_split\n",
    "X_train, X_test, Y_train, Y_test = train_test_split(X,Y, test_size=0.2,random_state=10)"
   ]
  },
  {
   "cell_type": "code",
   "execution_count": 5,
   "metadata": {},
   "outputs": [
    {
     "name": "stdout",
     "output_type": "stream",
     "text": [
      "Ri²: 0.8845875062149817\n",
      "Re²: 0.9053776780346924\n"
     ]
    }
   ],
   "source": [
    "#Regresion Lineal por segun datos internos y segun datos externos\n",
    "regrINTERNA = linear_model.LinearRegression()\n",
    "regrINTERNA.fit(X,Y)\n",
    "prediccionesINTERNA= regrINTERNA.predict(X)\n",
    "print('Ri²:',r2_score(Y,prediccionesINTERNA))\n",
    "\n",
    "regrEXTERNA = linear_model.LinearRegression()\n",
    "regrEXTERNA.fit(X_train,Y_train)\n",
    "prediccionesEXTERNA=regrEXTERNA.predict(X_test)\n",
    "print('Re²:',r2_score(Y_test,prediccionesEXTERNA))\n"
   ]
  }
 ],
 "metadata": {
  "kernelspec": {
   "display_name": "Python 3",
   "language": "python",
   "name": "python3"
  },
  "language_info": {
   "codemirror_mode": {
    "name": "ipython",
    "version": 3
   },
   "file_extension": ".py",
   "mimetype": "text/x-python",
   "name": "python",
   "nbconvert_exporter": "python",
   "pygments_lexer": "ipython3",
   "version": "3.7.4"
  }
 },
 "nbformat": 4,
 "nbformat_minor": 4
}
