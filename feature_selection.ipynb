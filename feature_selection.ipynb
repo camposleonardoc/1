{
 "cells": [
  {
   "cell_type": "code",
   "execution_count": 35,
   "metadata": {},
   "outputs": [],
   "source": [
    "from sklearn.feature_selection import RFE\n",
    "from sklearn import linear_model\n",
    "import pandas as pd"
   ]
  },
  {
   "cell_type": "code",
   "execution_count": 36,
   "metadata": {},
   "outputs": [],
   "source": [
    "data = pd.read_csv('base_datos_2008.csv')\n",
    "\n",
    "df = data.dropna(subset = ['AirTime','Distance','TaxiIn','TaxiOut','DayOfWeek','DayofMonth','Month','DepDelay','WeatherDelay'])\n",
    "\n",
    "df = df.sample(frac=1).head(10000)\n",
    "\n",
    "X = df[['AirTime','Distance','TaxiIn','TaxiOut','DayOfWeek','DayofMonth','Month','DepDelay','WeatherDelay']]\n",
    "\n",
    "Y = df ['ArrDelay']\n",
    "\n",
    "regr = linear_model.LinearRegression()\n"
   ]
  }
 ],
 "metadata": {
  "kernelspec": {
   "display_name": "Python 3",
   "language": "python",
   "name": "python3"
  },
  "language_info": {
   "codemirror_mode": {
    "name": "ipython",
    "version": 3
   },
   "file_extension": ".py",
   "mimetype": "text/x-python",
   "name": "python",
   "nbconvert_exporter": "python",
   "pygments_lexer": "ipython3",
   "version": "3.7.4"
  }
 },
 "nbformat": 4,
 "nbformat_minor": 4
}
