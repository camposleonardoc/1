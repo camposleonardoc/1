{
 "cells": [
  {
   "cell_type": "code",
   "execution_count": 4,
   "metadata": {},
   "outputs": [],
   "source": [
    "import pandas as pd\n",
    "import numpy as np\n",
    "from sklearn.model_selection import KFold\n",
    "from sklearn import linear_model\n",
    "from sklearn.metrics import r2_score\n"
   ]
  },
  {
   "cell_type": "code",
   "execution_count": 5,
   "metadata": {},
   "outputs": [],
   "source": [
    "df = pd.read_csv('base_datos_2008.csv')\n",
    "\n",
    "df = df.dropna(subset=['ArrDelay'])\n",
    "\n",
    "df=df.sample(frac=1).head(5000)\n",
    "\n",
    "#importante reset los index para que funcione la ubicación de Xtrain y Xtest\n",
    "df = df.reset_index()\n",
    "\n",
    "X = df[['AirTime', 'Distance', 'DepDelay']]\n",
    "Y= df['ArrDelay']"
   ]
  },
  {
   "cell_type": "code",
   "execution_count": 6,
   "metadata": {},
   "outputs": [
    {
     "data": {
      "text/plain": [
       "10"
      ]
     },
     "execution_count": 6,
     "metadata": {},
     "output_type": "execute_result"
    }
   ],
   "source": [
    "#Cross Validator\n",
    "kf = KFold(n_splits=10, shuffle=True)\n",
    "\n",
    "kf.get_n_splits(X)"
   ]
  },
  {
   "cell_type": "code",
   "execution_count": 7,
   "metadata": {},
   "outputs": [
    {
     "name": "stdout",
     "output_type": "stream",
     "text": [
      "R²: 0.880337551196157\n",
      "R²: 0.8194152475337224\n",
      "R²: 0.9140504405166001\n",
      "R²: 0.8176138029322615\n",
      "R²: 0.9229163631679135\n",
      "R²: 0.9145161535789702\n",
      "R²: 0.91990889474916\n",
      "R²: 0.9359615278825584\n",
      "R²: 0.9271986364612581\n",
      "R²: 0.8867593176102543\n",
      "R² medio 0.8938677935628855\n"
     ]
    }
   ],
   "source": [
    "regr = linear_model.LinearRegression()\n",
    "\n",
    "resultados = []\n",
    "\n",
    "for train_index,test_index in kf.split(X):\n",
    "    X_train, X_test = X.loc[train_index,], X.loc[test_index]\n",
    "    Y_train, Y_test = Y[train_index], Y[test_index]\n",
    "    regr.fit(X_train,Y_train)\n",
    "    predicciones=regr.predict(X_test)\n",
    "    print('R²:',r2_score(Y_test,predicciones))\n",
    "    resultados.append(r2_score(Y_test,predicciones))\n",
    "    \n",
    "print ('R² medio',np.mean(resultados))"
   ]
  },
  {
   "cell_type": "code",
   "execution_count": null,
   "metadata": {},
   "outputs": [],
   "source": []
  }
 ],
 "metadata": {
  "kernelspec": {
   "display_name": "Python 3",
   "language": "python",
   "name": "python3"
  },
  "language_info": {
   "codemirror_mode": {
    "name": "ipython",
    "version": 3
   },
   "file_extension": ".py",
   "mimetype": "text/x-python",
   "name": "python",
   "nbconvert_exporter": "python",
   "pygments_lexer": "ipython3",
   "version": "3.7.4"
  }
 },
 "nbformat": 4,
 "nbformat_minor": 4
}
