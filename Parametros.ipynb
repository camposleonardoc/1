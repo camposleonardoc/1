{
 "cells": [
  {
   "cell_type": "code",
   "execution_count": 37,
   "metadata": {},
   "outputs": [],
   "source": [
    "from sklearn.preprocessing import StandardScaler\n",
    "from sklearn.neural_network import MLPRegressor\n",
    "from sklearn.model_selection import train_test_split\n",
    "from sklearn.metrics import r2_score\n",
    "import pandas as pd"
   ]
  },
  {
   "cell_type": "code",
   "execution_count": 38,
   "metadata": {},
   "outputs": [],
   "source": [
    "data = pd.read_csv('base_datos_2008.csv')\n",
    "\n",
    "df = data.dropna(subset = ['ArrDelay'])\n",
    "\n",
    "df = df.sample(frac=1).head(10000)\n",
    "\n",
    "X = df[['AirTime','Distance','TaxiIn','TaxiOut','DepDelay']]\n",
    "\n",
    "Y = df ['ArrDelay']"
   ]
  },
  {
   "cell_type": "code",
   "execution_count": 39,
   "metadata": {},
   "outputs": [],
   "source": [
    "X_train, X_test, Y_train,Y_test = train_test_split(X,Y, test_size=0.2, random_state=1)\n",
    "\n",
    "scaler = StandardScaler()\n",
    "\n",
    "scaler.fit(X_train)\n",
    "\n",
    "X_train = scaler.transform(X_train)\n",
    "\n",
    "X_test = scaler.transform(X_test)\n"
   ]
  },
  {
   "cell_type": "code",
   "execution_count": 41,
   "metadata": {},
   "outputs": [
    {
     "name": "stdout",
     "output_type": "stream",
     "text": [
      "32\n"
     ]
    }
   ],
   "source": [
    "alphas = [0.000001,0.0001,0.01,0.1]\n",
    "\n",
    "layers = [5,10,50,100]\n",
    "\n",
    "solvers =['lbfgs','adam']\n",
    "\n",
    "print (len(alphas)*len(layers)*len(solvers))"
   ]
  },
  {
   "cell_type": "code",
   "execution_count": null,
   "metadata": {},
   "outputs": [
    {
     "name": "stdout",
     "output_type": "stream",
     "text": [
      "R²:  0.9523139284995534 Solver :  lbfgs Layers:  5 Alpha:  1e-06\n",
      "R²:  0.9519830423253355 Solver :  adam Layers:  5 Alpha:  1e-06\n",
      "R²:  0.954639112658998 Solver :  lbfgs Layers:  10 Alpha:  1e-06\n",
      "R²:  0.9528279589815282 Solver :  adam Layers:  10 Alpha:  1e-06\n",
      "R²:  0.9543936437822991 Solver :  lbfgs Layers:  50 Alpha:  1e-06\n",
      "R²:  0.9551242579964973 Solver :  adam Layers:  50 Alpha:  1e-06\n"
     ]
    }
   ],
   "source": [
    "for alpha in alphas:\n",
    "    for layer in layers:\n",
    "        for solver in solvers:\n",
    "            clf = MLPRegressor(solver=solver,alpha=alpha,hidden_layer_sizes=(layer,),warm_start=True,max_iter=10000)\n",
    "            model = clf.fit(X_train, Y_train)\n",
    "            predictions = model.predict(X_test)\n",
    "            print('R²: ',r2_score(Y_test,predictions),'Solver : ',solver,'Layers: ',layer,'Alpha: ',alpha)"
   ]
  },
  {
   "cell_type": "code",
   "execution_count": null,
   "metadata": {},
   "outputs": [],
   "source": []
  }
 ],
 "metadata": {
  "kernelspec": {
   "display_name": "Python 3",
   "language": "python",
   "name": "python3"
  },
  "language_info": {
   "codemirror_mode": {
    "name": "ipython",
    "version": 3
   },
   "file_extension": ".py",
   "mimetype": "text/x-python",
   "name": "python",
   "nbconvert_exporter": "python",
   "pygments_lexer": "ipython3",
   "version": "3.7.4"
  }
 },
 "nbformat": 4,
 "nbformat_minor": 4
}
